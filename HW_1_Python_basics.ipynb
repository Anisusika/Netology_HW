{
 "cells": [
  {
   "cell_type": "markdown",
   "metadata": {},
   "source": [
    "# Задание 1"
   ]
  },
  {
   "cell_type": "code",
   "execution_count": 1,
   "metadata": {},
   "outputs": [
    {
     "name": "stdout",
     "output_type": "stream",
     "text": [
      "Фраза 1 длиннее фразы 2\n"
     ]
    }
   ],
   "source": [
    "phrase_1 = 'Насколько проще было бы писать программы, если бы не заказчики'\n",
    "phrase_2 = '640Кб должно хватить для любых задач. Билл Гейтс (по легенде)'\n",
    "len(phrase_1) > len(phrase_2)\n",
    "print ('Фраза 1 длиннее фразы 2')"
   ]
  },
  {
   "cell_type": "code",
   "execution_count": 2,
   "metadata": {},
   "outputs": [
    {
     "name": "stdout",
     "output_type": "stream",
     "text": [
      "Фраза 2 длиннее фразы 1\n"
     ]
    }
   ],
   "source": [
    "phrase_1 = '640Кб должно хватить для любых задач. Билл Гейтс (по легенде)'\n",
    "phrase_2 = 'Насколько проще было бы писать программы, если бы не заказчики'\n",
    "len(phrase_2) > len(phrase_1)\n",
    "print ('Фраза 2 длиннее фразы 1')"
   ]
  },
  {
   "cell_type": "code",
   "execution_count": 3,
   "metadata": {},
   "outputs": [
    {
     "name": "stdout",
     "output_type": "stream",
     "text": [
      "Фразы равной длины\n"
     ]
    }
   ],
   "source": [
    "phrase_1 = 'Насколько проще было бы писать программы, если бы не заказчики'\n",
    "phrase_2 = 'Насколько проще было бы писать программы, если бы не заказчики'\n",
    "len(phrase_1) > len(phrase_2)\n",
    "print ('Фразы равной длины')"
   ]
  },
  {
   "cell_type": "markdown",
   "metadata": {},
   "source": [
    "# Задание 2"
   ]
  },
  {
   "cell_type": "code",
   "execution_count": 27,
   "metadata": {},
   "outputs": [
    {
     "name": "stdout",
     "output_type": "stream",
     "text": [
      "Year = 2018\n",
      "Обычный год \n"
     ]
    }
   ],
   "source": [
    "user_input_year = int(input('Year = '))\n",
    "if user_input_year % 4 == 0:\n",
    "    print('Високосный год')\n",
    "else:\n",
    "    print('Обычный год ')"
   ]
  },
  {
   "cell_type": "markdown",
   "metadata": {},
   "source": [
    "# Задание 3"
   ]
  },
  {
   "cell_type": "code",
   "execution_count": 9,
   "metadata": {},
   "outputs": [
    {
     "name": "stdout",
     "output_type": "stream",
     "text": [
      "Введите день: 24\n",
      "Введите месяц: Май\n",
      "Ваш знак зодиака: Близнецы\n"
     ]
    }
   ],
   "source": [
    "# я пока не умею создавать выпадающие списки, поэтому как-то так\n",
    "user_input_day = int(input('Введите день: '))\n",
    "user_input_month = input('Введите месяц: ')\n",
    "if user_input_month == 'Январь':\n",
    "    if user_input_day <= 20:\n",
    "        print ('Ваш знак зодиака: Козерог')\n",
    "    elif user_input_day <= 31:\n",
    "        print ('Ваш знак зодиака: Водолей')\n",
    "    else:\n",
    "        print ('Нет такой даты)')\n",
    "elif user_input_month == 'Февраль':\n",
    "    if user_input_day <= 19:\n",
    "        print ('Ваш знак зодиака: Водолей')\n",
    "    elif user_input_day <= 29:\n",
    "        print ('Ваш знак зодиака: Рыбы')\n",
    "    else:\n",
    "        print ('Нет такой даты)')\n",
    "elif user_input_month == 'Март':\n",
    "    if user_input_day <= 20:\n",
    "        print ('Ваш знак зодиака: Рыбы')\n",
    "    elif user_input_day <= 31:\n",
    "        print ('Ваш знак зодиака: Овен')\n",
    "    else:\n",
    "        print ('Нет такой даты)')\n",
    "elif user_input_month == 'Апрель':\n",
    "    if user_input_day <= 20:\n",
    "        print ('Ваш знак зодиака: Овен')\n",
    "    elif user_input_day <= 30:\n",
    "        print ('Ваш знак зодиака: Телец')   \n",
    "    else:\n",
    "        print ('Нет такой даты)')\n",
    "elif user_input_month == 'Май':\n",
    "    if user_input_day <= 21:\n",
    "        print ('Ваш знак зодиака: Телец')\n",
    "    elif user_input_day <= 31:\n",
    "        print ('Ваш знак зодиака: Близнецы') \n",
    "    else:\n",
    "        print ('Нет такой даты')\n",
    "elif user_input_month == 'Июнь':\n",
    "    if user_input_day <= 21:\n",
    "        print ('Ваш знак зодиака: Близнецы')\n",
    "    elif user_input_day <= 30:\n",
    "        print ('Ваш знак зодиака: Рак')     \n",
    "    else:\n",
    "        print ('Нет такой даты')\n",
    "elif user_input_month == 'Июль':\n",
    "    if user_input_day <= 23:\n",
    "        print ('Ваш знак зодиака: Рак')\n",
    "    elif user_input_day <= 31:\n",
    "        print ('Ваш знак зодиака: Лев')       \n",
    "    else:\n",
    "        print ('Нет такой даты')\n",
    "elif user_input_month == 'Август':\n",
    "    if user_input_day <= 23:\n",
    "        print ('Ваш знак зодиака: Лев')\n",
    "    elif user_input_day <= 31:\n",
    "        print ('Ваш знак зодиака: Дева')  \n",
    "    else:\n",
    "        print ('Нет такой даты')\n",
    "elif user_input_month == 'Сентябрь':\n",
    "    if user_input_day <= 23:\n",
    "        print ('Ваш знак зодиака: Дева')\n",
    "    elif user_input_day <= 30:\n",
    "        print ('Ваш знак зодиака: Весы')  \n",
    "    else:\n",
    "        print ('Нет такой даты')\n",
    "elif user_input_month == 'Октябрь':\n",
    "    if user_input_day <= 23:\n",
    "        print ('Ваш знак зодиака: Весы')\n",
    "    elif user_input_day <= 31:\n",
    "        print ('Ваш знак зодиака: Скорпион')  \n",
    "    else:\n",
    "        print ('Нет такой даты')\n",
    "elif user_input_month == 'Ноябрь':\n",
    "    if user_input_day <= 22:\n",
    "        print ('Ваш знак зодиака: Скорпион')\n",
    "    elif user_input_day <= 30:\n",
    "        print ('Ваш знак зодиака: Стрелец')  \n",
    "    else:\n",
    "        print ('Нет такой даты')\n",
    "elif user_input_month == 'Декабрь':\n",
    "    if user_input_day <= 21:\n",
    "        print ('Ваш знак зодиака: Стрелец')\n",
    "    elif user_input_day <= 31:\n",
    "        print ('Ваш знак зодиака: Козерог')\n",
    "    else:\n",
    "        print ('Нет такой даты')\n",
    "else:\n",
    "    print ('Вы неправильно ввели название месяца')"
   ]
  },
  {
   "cell_type": "markdown",
   "metadata": {},
   "source": [
    "# Задание 4"
   ]
  },
  {
   "cell_type": "code",
   "execution_count": 7,
   "metadata": {},
   "outputs": [
    {
     "name": "stdout",
     "output_type": "stream",
     "text": [
      "width = 23\n",
      "length = 12\n",
      "height = 43\n",
      "Коробка №2\n"
     ]
    }
   ],
   "source": [
    "user_input_width = int(input('width = '))\n",
    "user_input_length = int(input('length = '))\n",
    "user_input_height = int(input('height = '))\n",
    "if user_input_width < 15 and user_input_length < 15 and user_input_height < 15:\n",
    "    print ('Коробка №1')\n",
    "elif user_input_length > 200:\n",
    "    print ('Ищите упаковку для лыж')\n",
    "elif user_input_width > 15 and user_input_width < 50 or user_input_length > 15 and user_input_length < 50 or user_input_height > 15 and user_input_height < 50:\n",
    "    print ('Коробка №2')\n",
    "else: \n",
    "    print ('Стандартная коробка №3')"
   ]
  },
  {
   "cell_type": "markdown",
   "metadata": {},
   "source": [
    "# Задание 5"
   ]
  },
  {
   "cell_type": "code",
   "execution_count": 1,
   "metadata": {},
   "outputs": [
    {
     "name": "stdout",
     "output_type": "stream",
     "text": [
      "Введите 6-значное число 123321\n",
      "Счастливый билет\n"
     ]
    }
   ],
   "source": [
    "ticket = input('Введите 6-значное число ')\n",
    "str(ticket)\n",
    "if (ticket[0]+ticket[1]+ticket[2]) == (ticket[-1]+ticket[-2]+ticket[-3]):\n",
    "    print ('Счастливый билет')\n",
    "else:\n",
    "    print('Несчастливый билет')"
   ]
  },
  {
   "cell_type": "code",
   "execution_count": null,
   "metadata": {},
   "outputs": [],
   "source": []
  }
 ],
 "metadata": {
  "kernelspec": {
   "display_name": "Python 3",
   "language": "python",
   "name": "python3"
  },
  "language_info": {
   "codemirror_mode": {
    "name": "ipython",
    "version": 3
   },
   "file_extension": ".py",
   "mimetype": "text/x-python",
   "name": "python",
   "nbconvert_exporter": "python",
   "pygments_lexer": "ipython3",
   "version": "3.8.5"
  }
 },
 "nbformat": 4,
 "nbformat_minor": 4
}
